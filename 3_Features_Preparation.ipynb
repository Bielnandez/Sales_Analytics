{
 "cells": [
  {
   "cell_type": "markdown",
   "metadata": {},
   "source": [
    "# FEATURES PREPARATION\n",
    "#### Was chose four exogenous attributes to help us understanding the impact of economy in the game market sales, it was found in the internet in different sources and the links will be attach in the explanations. Was chose the Russia economy indexes as GDP, MOEX, Dollar equivalence and unemployment rate. These features was chose because are the basic economy indexes that can to influency in the sales of anything in the country."
   ]
  },
  {
   "cell_type": "markdown",
   "metadata": {},
   "source": [
    "# Preparing the RUB in Dollar data\n",
    "#### The data was found in https://www.investing.com/currencies/rub-usd-converter#historical_data_converter.  I selected the date interval before the download to simply the data preparation, the data interval was 01.01.2013 to 30.06.2015."
   ]
  },
  {
   "cell_type": "code",
   "execution_count": 1,
   "metadata": {},
   "outputs": [],
   "source": [
    "%matplotlib inline\n",
    "import pandas as pd\n",
    "import matplotlib.pyplot as plt\n",
    "import numpy as np\n",
    "import seaborn as sns; sns.set()"
   ]
  },
  {
   "cell_type": "code",
   "execution_count": 2,
   "metadata": {},
   "outputs": [],
   "source": [
    "raw_RubinDolar = pd.read_csv(\"raw_RUBinDolar.csv\", sep = \";\");"
   ]
  },
  {
   "cell_type": "code",
   "execution_count": 3,
   "metadata": {},
   "outputs": [
    {
     "data": {
      "text/plain": [
       "(786, 6)"
      ]
     },
     "execution_count": 3,
     "metadata": {},
     "output_type": "execute_result"
    }
   ],
   "source": [
    "raw_RubinDolar.shape"
   ]
  },
  {
   "cell_type": "code",
   "execution_count": 4,
   "metadata": {},
   "outputs": [],
   "source": [
    "raw_RubinDolar = raw_RubinDolar.dropna()"
   ]
  },
  {
   "cell_type": "code",
   "execution_count": 5,
   "metadata": {},
   "outputs": [
    {
     "data": {
      "text/html": [
       "<div>\n",
       "<style scoped>\n",
       "    .dataframe tbody tr th:only-of-type {\n",
       "        vertical-align: middle;\n",
       "    }\n",
       "\n",
       "    .dataframe tbody tr th {\n",
       "        vertical-align: top;\n",
       "    }\n",
       "\n",
       "    .dataframe thead th {\n",
       "        text-align: right;\n",
       "    }\n",
       "</style>\n",
       "<table border=\"1\" class=\"dataframe\">\n",
       "  <thead>\n",
       "    <tr style=\"text-align: right;\">\n",
       "      <th></th>\n",
       "      <th>Data</th>\n",
       "      <th>Último</th>\n",
       "      <th>Abertura</th>\n",
       "      <th>Máxima</th>\n",
       "      <th>Mínima</th>\n",
       "      <th>Var%</th>\n",
       "    </tr>\n",
       "  </thead>\n",
       "  <tbody>\n",
       "    <tr>\n",
       "      <th>0</th>\n",
       "      <td>01.01.2013</td>\n",
       "      <td>0,0327</td>\n",
       "      <td>0,0327</td>\n",
       "      <td>0,0327</td>\n",
       "      <td>0,0327</td>\n",
       "      <td>-0,3</td>\n",
       "    </tr>\n",
       "    <tr>\n",
       "      <th>1</th>\n",
       "      <td>02.01.2013</td>\n",
       "      <td>0,0331</td>\n",
       "      <td>0,0327</td>\n",
       "      <td>0,0333</td>\n",
       "      <td>0,0327</td>\n",
       "      <td>1,22</td>\n",
       "    </tr>\n",
       "    <tr>\n",
       "      <th>2</th>\n",
       "      <td>03.01.2013</td>\n",
       "      <td>0,033</td>\n",
       "      <td>0,0331</td>\n",
       "      <td>0,0333</td>\n",
       "      <td>0,0329</td>\n",
       "      <td>-0,3</td>\n",
       "    </tr>\n",
       "    <tr>\n",
       "      <th>3</th>\n",
       "      <td>04.01.2013</td>\n",
       "      <td>0,033</td>\n",
       "      <td>0,033</td>\n",
       "      <td>0,0331</td>\n",
       "      <td>0,0327</td>\n",
       "      <td>0</td>\n",
       "    </tr>\n",
       "    <tr>\n",
       "      <th>4</th>\n",
       "      <td>07.01.2013</td>\n",
       "      <td>0,033</td>\n",
       "      <td>0,033</td>\n",
       "      <td>0,0331</td>\n",
       "      <td>0,0328</td>\n",
       "      <td>0</td>\n",
       "    </tr>\n",
       "  </tbody>\n",
       "</table>\n",
       "</div>"
      ],
      "text/plain": [
       "         Data  Último Abertura  Máxima  Mínima  Var%\n",
       "0  01.01.2013  0,0327   0,0327  0,0327  0,0327  -0,3\n",
       "1  02.01.2013  0,0331   0,0327  0,0333  0,0327  1,22\n",
       "2  03.01.2013   0,033   0,0331  0,0333  0,0329  -0,3\n",
       "3  04.01.2013   0,033    0,033  0,0331  0,0327     0\n",
       "4  07.01.2013   0,033    0,033  0,0331  0,0328     0"
      ]
     },
     "execution_count": 5,
     "metadata": {},
     "output_type": "execute_result"
    }
   ],
   "source": [
    "raw_RubinDolar.head()"
   ]
  },
  {
   "cell_type": "markdown",
   "metadata": {},
   "source": [
    "#### In this moment was decided that the unique column that is important to us in this moment is the aperture Value, so we will delete the other columns."
   ]
  },
  {
   "cell_type": "code",
   "execution_count": 6,
   "metadata": {},
   "outputs": [],
   "source": [
    "del raw_RubinDolar['Último']\n",
    "del raw_RubinDolar['Máxima']\n",
    "del raw_RubinDolar['Mínima']\n",
    "del raw_RubinDolar['Var%']"
   ]
  },
  {
   "cell_type": "markdown",
   "metadata": {},
   "source": [
    "#### Another observation is the dataset doesn't have the weekend days, so we need to add it, because the sales we have analysing occur in the weekends. We can repeat the previous value, friday values, for the weekend without expecting negative impacts."
   ]
  },
  {
   "cell_type": "code",
   "execution_count": 7,
   "metadata": {},
   "outputs": [
    {
     "data": {
      "text/html": [
       "<div>\n",
       "<style scoped>\n",
       "    .dataframe tbody tr th:only-of-type {\n",
       "        vertical-align: middle;\n",
       "    }\n",
       "\n",
       "    .dataframe tbody tr th {\n",
       "        vertical-align: top;\n",
       "    }\n",
       "\n",
       "    .dataframe thead th {\n",
       "        text-align: right;\n",
       "    }\n",
       "</style>\n",
       "<table border=\"1\" class=\"dataframe\">\n",
       "  <thead>\n",
       "    <tr style=\"text-align: right;\">\n",
       "      <th></th>\n",
       "      <th>Value</th>\n",
       "    </tr>\n",
       "    <tr>\n",
       "      <th>Date</th>\n",
       "      <th></th>\n",
       "    </tr>\n",
       "  </thead>\n",
       "  <tbody>\n",
       "    <tr>\n",
       "      <th>2013-01-01</th>\n",
       "      <td>0,0327</td>\n",
       "    </tr>\n",
       "    <tr>\n",
       "      <th>2013-01-02</th>\n",
       "      <td>0,0327</td>\n",
       "    </tr>\n",
       "    <tr>\n",
       "      <th>2013-01-03</th>\n",
       "      <td>0,0331</td>\n",
       "    </tr>\n",
       "    <tr>\n",
       "      <th>2013-01-04</th>\n",
       "      <td>0,033</td>\n",
       "    </tr>\n",
       "    <tr>\n",
       "      <th>2013-01-07</th>\n",
       "      <td>0,033</td>\n",
       "    </tr>\n",
       "  </tbody>\n",
       "</table>\n",
       "</div>"
      ],
      "text/plain": [
       "             Value\n",
       "Date              \n",
       "2013-01-01  0,0327\n",
       "2013-01-02  0,0327\n",
       "2013-01-03  0,0331\n",
       "2013-01-04   0,033\n",
       "2013-01-07   0,033"
      ]
     },
     "execution_count": 7,
     "metadata": {},
     "output_type": "execute_result"
    }
   ],
   "source": [
    "raw_RubinDolar.columns = ['Date','Value']\n",
    "raw_RubinDolar['Date'] = pd.to_datetime(raw_RubinDolar['Date'], format = '%d.%m.%Y')\n",
    "raw_RubinDolar= raw_RubinDolar.sort_values(['Date'], ascending=True)\n",
    "raw_RubinDolar.set_index('Date', inplace=True)\n",
    "raw_RubinDolar.head()"
   ]
  },
  {
   "cell_type": "markdown",
   "metadata": {},
   "source": [
    "#### How we can see that the decimal was represented by a comma, we need to replace to point."
   ]
  },
  {
   "cell_type": "code",
   "execution_count": 8,
   "metadata": {},
   "outputs": [
    {
     "data": {
      "text/html": [
       "<div>\n",
       "<style scoped>\n",
       "    .dataframe tbody tr th:only-of-type {\n",
       "        vertical-align: middle;\n",
       "    }\n",
       "\n",
       "    .dataframe tbody tr th {\n",
       "        vertical-align: top;\n",
       "    }\n",
       "\n",
       "    .dataframe thead th {\n",
       "        text-align: right;\n",
       "    }\n",
       "</style>\n",
       "<table border=\"1\" class=\"dataframe\">\n",
       "  <thead>\n",
       "    <tr style=\"text-align: right;\">\n",
       "      <th></th>\n",
       "      <th>Value</th>\n",
       "    </tr>\n",
       "    <tr>\n",
       "      <th>Date</th>\n",
       "      <th></th>\n",
       "    </tr>\n",
       "  </thead>\n",
       "  <tbody>\n",
       "    <tr>\n",
       "      <th>2013-01-01</th>\n",
       "      <td>0.0327</td>\n",
       "    </tr>\n",
       "    <tr>\n",
       "      <th>2013-01-02</th>\n",
       "      <td>0.0327</td>\n",
       "    </tr>\n",
       "    <tr>\n",
       "      <th>2013-01-03</th>\n",
       "      <td>0.0331</td>\n",
       "    </tr>\n",
       "    <tr>\n",
       "      <th>2013-01-04</th>\n",
       "      <td>0.0330</td>\n",
       "    </tr>\n",
       "    <tr>\n",
       "      <th>2013-01-07</th>\n",
       "      <td>0.0330</td>\n",
       "    </tr>\n",
       "  </tbody>\n",
       "</table>\n",
       "</div>"
      ],
      "text/plain": [
       "             Value\n",
       "Date              \n",
       "2013-01-01  0.0327\n",
       "2013-01-02  0.0327\n",
       "2013-01-03  0.0331\n",
       "2013-01-04  0.0330\n",
       "2013-01-07  0.0330"
      ]
     },
     "execution_count": 8,
     "metadata": {},
     "output_type": "execute_result"
    }
   ],
   "source": [
    "raw_RubinDolar['Value'] = raw_RubinDolar['Value'].str.replace(\",\",\".\")\n",
    "raw_RubinDolar['Value'] = pd.to_numeric(raw_RubinDolar['Value'] )\n",
    "raw_RubinDolar.head()"
   ]
  },
  {
   "cell_type": "markdown",
   "metadata": {},
   "source": [
    "#### Here we will creat a treatment for weekend days values repeating the fridays values for it."
   ]
  },
  {
   "cell_type": "code",
   "execution_count": 9,
   "metadata": {},
   "outputs": [
    {
     "data": {
      "text/html": [
       "<div>\n",
       "<style scoped>\n",
       "    .dataframe tbody tr th:only-of-type {\n",
       "        vertical-align: middle;\n",
       "    }\n",
       "\n",
       "    .dataframe tbody tr th {\n",
       "        vertical-align: top;\n",
       "    }\n",
       "\n",
       "    .dataframe thead th {\n",
       "        text-align: right;\n",
       "    }\n",
       "</style>\n",
       "<table border=\"1\" class=\"dataframe\">\n",
       "  <thead>\n",
       "    <tr style=\"text-align: right;\">\n",
       "      <th></th>\n",
       "      <th>Date</th>\n",
       "      <th>Value</th>\n",
       "    </tr>\n",
       "  </thead>\n",
       "  <tbody>\n",
       "    <tr>\n",
       "      <th>0</th>\n",
       "      <td>2013-01-01</td>\n",
       "      <td>0.0327</td>\n",
       "    </tr>\n",
       "    <tr>\n",
       "      <th>1</th>\n",
       "      <td>2013-01-02</td>\n",
       "      <td>0.0327</td>\n",
       "    </tr>\n",
       "    <tr>\n",
       "      <th>2</th>\n",
       "      <td>2013-01-03</td>\n",
       "      <td>0.0331</td>\n",
       "    </tr>\n",
       "    <tr>\n",
       "      <th>3</th>\n",
       "      <td>2013-01-04</td>\n",
       "      <td>0.0330</td>\n",
       "    </tr>\n",
       "    <tr>\n",
       "      <th>4</th>\n",
       "      <td>2013-01-05</td>\n",
       "      <td>0.0330</td>\n",
       "    </tr>\n",
       "    <tr>\n",
       "      <th>5</th>\n",
       "      <td>2013-01-06</td>\n",
       "      <td>0.0330</td>\n",
       "    </tr>\n",
       "    <tr>\n",
       "      <th>6</th>\n",
       "      <td>2013-01-07</td>\n",
       "      <td>0.0330</td>\n",
       "    </tr>\n",
       "  </tbody>\n",
       "</table>\n",
       "</div>"
      ],
      "text/plain": [
       "        Date   Value\n",
       "0 2013-01-01  0.0327\n",
       "1 2013-01-02  0.0327\n",
       "2 2013-01-03  0.0331\n",
       "3 2013-01-04  0.0330\n",
       "4 2013-01-05  0.0330\n",
       "5 2013-01-06  0.0330\n",
       "6 2013-01-07  0.0330"
      ]
     },
     "execution_count": 9,
     "metadata": {},
     "output_type": "execute_result"
    }
   ],
   "source": [
    "raw_RubinDolar = raw_RubinDolar.resample('D').sum()\n",
    "raw_RubinDolar['Value'] = raw_RubinDolar['Value'].replace(0, np.nan)\n",
    "for n,i in enumerate(raw_RubinDolar['Value']):\n",
    "        if np.isnan(raw_RubinDolar['Value'][n]):\n",
    "            raw_RubinDolar['Value'][n] = raw_RubinDolar['Value'][n-1]\n",
    "raw_RubinDolar = raw_RubinDolar.reset_index()\n",
    "raw_RubinDolar.head(7)"
   ]
  },
  {
   "cell_type": "code",
   "execution_count": 10,
   "metadata": {},
   "outputs": [
    {
     "name": "stderr",
     "output_type": "stream",
     "text": [
      "C:\\Users\\Anthony\\Anaconda3\\lib\\site-packages\\pandas\\plotting\\_converter.py:129: FutureWarning: Using an implicitly registered datetime converter for a matplotlib plotting method. The converter was registered by pandas on import. Future versions of pandas will require you to explicitly register matplotlib converters.\n",
      "\n",
      "To register the converters:\n",
      "\t>>> from pandas.plotting import register_matplotlib_converters\n",
      "\t>>> register_matplotlib_converters()\n",
      "  warnings.warn(msg, FutureWarning)\n"
     ]
    },
    {
     "data": {
      "image/png": "[encoded data removed]",
      "text/plain": [
       "<Figure size 1080x504 with 1 Axes>"
      ]
     },
     "metadata": {
      "needs_background": "light"
     },
     "output_type": "display_data"
    }
   ],
   "source": [
    "dim = (15, 7)\n",
    "fig, ax = plt.subplots(figsize=dim)\n",
    "ax = sns.lineplot(x=\"Date\", y=\"Value\", color = 'royalblue',data=raw_RubinDolar)"
   ]
  },
  {
   "cell_type": "code",
   "execution_count": 11,
   "metadata": {},
   "outputs": [
    {
     "data": {
      "text/plain": [
       "(911, 2)"
      ]
     },
     "execution_count": 11,
     "metadata": {},
     "output_type": "execute_result"
    }
   ],
   "source": [
    "raw_RubinDolar.to_csv(\"RubinDolar.csv\", header = True, index = False)\n",
    "raw_RubinDolar.shape"
   ]
  },
  {
   "cell_type": "markdown",
   "metadata": {},
   "source": [
    "#### So, everything looks like ok in this data and we can continue to preparing the features."
   ]
  },
  {
   "cell_type": "code",
   "execution_count": 12,
   "metadata": {},
   "outputs": [],
   "source": [
    "raw_RubinDolar.to_csv(\"RubinDolar.csv\", header = True, index = False)"
   ]
  },
  {
   "cell_type": "markdown",
   "metadata": {},
   "source": [
    "# Preparing the Russia GDP data\n",
    "#### The data was found in https://data.worldbank.org/indicator/NY.GDP.MKTP.CD?end=2016&locations=RU&most_recent_year_desc=false&start=2013&view=chart.\n",
    "#### I selected the date interval before the downloaded to simply the data preparation, the data interval was 2012 to 2016. But not always the data cames as we like, and in this case we need to filter the Russia in the middle of theses others countries, besides to transpose the table. This data has two separation, so we need to treat it removing the double quotation marks."
   ]
  },
  {
   "cell_type": "code",
   "execution_count": 13,
   "metadata": {},
   "outputs": [],
   "source": [
    "raw_GDP = pd.read_csv(\"raw_GDP.csv\", sep = ',', header = None)"
   ]
  },
  {
   "cell_type": "code",
   "execution_count": 14,
   "metadata": {},
   "outputs": [
    {
     "data": {
      "text/plain": [
       "(265, 1)"
      ]
     },
     "execution_count": 14,
     "metadata": {},
     "output_type": "execute_result"
    }
   ],
   "source": [
    "raw_GDP.shape"
   ]
  },
  {
   "cell_type": "code",
   "execution_count": 15,
   "metadata": {},
   "outputs": [
    {
     "data": {
      "text/html": [
       "<div>\n",
       "<style scoped>\n",
       "    .dataframe tbody tr th:only-of-type {\n",
       "        vertical-align: middle;\n",
       "    }\n",
       "\n",
       "    .dataframe tbody tr th {\n",
       "        vertical-align: top;\n",
       "    }\n",
       "\n",
       "    .dataframe thead th {\n",
       "        text-align: right;\n",
       "    }\n",
       "</style>\n",
       "<table border=\"1\" class=\"dataframe\">\n",
       "  <thead>\n",
       "    <tr style=\"text-align: right;\">\n",
       "      <th></th>\n",
       "      <th>col</th>\n",
       "    </tr>\n",
       "  </thead>\n",
       "  <tbody>\n",
       "    <tr>\n",
       "      <th>0</th>\n",
       "      <td>Country Name,\"Country Code\",\"Indicator Name\",\"...</td>\n",
       "    </tr>\n",
       "    <tr>\n",
       "      <th>1</th>\n",
       "      <td>Aruba,\"ABW\",\"GDP (current US$)\",\"NY.GDP.MKTP.C...</td>\n",
       "    </tr>\n",
       "    <tr>\n",
       "      <th>2</th>\n",
       "      <td>Afghanistan,\"AFG\",\"GDP (current US$)\",\"NY.GDP....</td>\n",
       "    </tr>\n",
       "    <tr>\n",
       "      <th>3</th>\n",
       "      <td>Angola,\"AGO\",\"GDP (current US$)\",\"NY.GDP.MKTP....</td>\n",
       "    </tr>\n",
       "    <tr>\n",
       "      <th>4</th>\n",
       "      <td>Albania,\"ALB\",\"GDP (current US$)\",\"NY.GDP.MKTP...</td>\n",
       "    </tr>\n",
       "  </tbody>\n",
       "</table>\n",
       "</div>"
      ],
      "text/plain": [
       "                                                 col\n",
       "0  Country Name,\"Country Code\",\"Indicator Name\",\"...\n",
       "1  Aruba,\"ABW\",\"GDP (current US$)\",\"NY.GDP.MKTP.C...\n",
       "2  Afghanistan,\"AFG\",\"GDP (current US$)\",\"NY.GDP....\n",
       "3  Angola,\"AGO\",\"GDP (current US$)\",\"NY.GDP.MKTP....\n",
       "4  Albania,\"ALB\",\"GDP (current US$)\",\"NY.GDP.MKTP..."
      ]
     },
     "execution_count": 15,
     "metadata": {},
     "output_type": "execute_result"
    }
   ],
   "source": [
    "raw_GDP.columns = ['col']\n",
    "raw_GDP.head()"
   ]
  },
  {
   "cell_type": "code",
   "execution_count": 16,
   "metadata": {},
   "outputs": [],
   "source": [
    "raw_GDP['col'] = raw_GDP['col'].str.replace('\"',' ')\n",
    "raw_GDP.to_csv(\"medium_GDP.csv\", header = None, index = False)"
   ]
  },
  {
   "cell_type": "code",
   "execution_count": 17,
   "metadata": {},
   "outputs": [
    {
     "name": "stderr",
     "output_type": "stream",
     "text": [
      "C:\\Users\\Anthony\\Anaconda3\\lib\\site-packages\\ipykernel_launcher.py:1: ParserWarning: Falling back to the 'python' engine because the 'c' engine does not support regex separators (separators > 1 char and different from '\\s+' are interpreted as regex); you can avoid this warning by specifying engine='python'.\n",
      "  \"\"\"Entry point for launching an IPython kernel.\n"
     ]
    },
    {
     "data": {
      "text/html": [
       "<div>\n",
       "<style scoped>\n",
       "    .dataframe tbody tr th:only-of-type {\n",
       "        vertical-align: middle;\n",
       "    }\n",
       "\n",
       "    .dataframe tbody tr th {\n",
       "        vertical-align: top;\n",
       "    }\n",
       "\n",
       "    .dataframe thead th {\n",
       "        text-align: right;\n",
       "    }\n",
       "</style>\n",
       "<table border=\"1\" class=\"dataframe\">\n",
       "  <thead>\n",
       "    <tr style=\"text-align: right;\">\n",
       "      <th></th>\n",
       "      <th>\"Country Name, Country Code</th>\n",
       "      <th>Indicator Name</th>\n",
       "      <th>Indicator Code</th>\n",
       "      <th>1960</th>\n",
       "      <th>1961</th>\n",
       "      <th>1962</th>\n",
       "      <th>1963</th>\n",
       "      <th>1964</th>\n",
       "      <th>1965</th>\n",
       "      <th>1966</th>\n",
       "      <th>...</th>\n",
       "      <th>2009</th>\n",
       "      <th>2010</th>\n",
       "      <th>2011</th>\n",
       "      <th>2012</th>\n",
       "      <th>2013</th>\n",
       "      <th>2014</th>\n",
       "      <th>2015</th>\n",
       "      <th>2016</th>\n",
       "      <th>2017</th>\n",
       "      <th>2018 ,\"</th>\n",
       "    </tr>\n",
       "  </thead>\n",
       "  <tbody>\n",
       "    <tr>\n",
       "      <th>0</th>\n",
       "      <td>\"Aruba, ABW</td>\n",
       "      <td>GDP (current US$)</td>\n",
       "      <td>NY.GDP.MKTP.CD</td>\n",
       "      <td>NaN</td>\n",
       "      <td>NaN</td>\n",
       "      <td>NaN</td>\n",
       "      <td>NaN</td>\n",
       "      <td>NaN</td>\n",
       "      <td>NaN</td>\n",
       "      <td>NaN</td>\n",
       "      <td>...</td>\n",
       "      <td>2.498883e+09</td>\n",
       "      <td>2.390503e+09</td>\n",
       "      <td>2.549721e+09</td>\n",
       "      <td>2.534637e+09</td>\n",
       "      <td>2.581564e+09</td>\n",
       "      <td>2.649721e+09</td>\n",
       "      <td>2.691620e+09</td>\n",
       "      <td>2.646927e+09</td>\n",
       "      <td>2.700559e+09</td>\n",
       "      <td>,\"</td>\n",
       "    </tr>\n",
       "    <tr>\n",
       "      <th>1</th>\n",
       "      <td>\"Afghanistan, AFG</td>\n",
       "      <td>GDP (current US$)</td>\n",
       "      <td>NY.GDP.MKTP.CD</td>\n",
       "      <td>5.377778e+08</td>\n",
       "      <td>5.488889e+08</td>\n",
       "      <td>5.466667e+08</td>\n",
       "      <td>7.511112e+08</td>\n",
       "      <td>8.000000e+08</td>\n",
       "      <td>1.006667e+09</td>\n",
       "      <td>1.400000e+09</td>\n",
       "      <td>...</td>\n",
       "      <td>1.243909e+10</td>\n",
       "      <td>1.585657e+10</td>\n",
       "      <td>1.780428e+10</td>\n",
       "      <td>2.000162e+10</td>\n",
       "      <td>2.056105e+10</td>\n",
       "      <td>2.048487e+10</td>\n",
       "      <td>1.990711e+10</td>\n",
       "      <td>1.936264e+10</td>\n",
       "      <td>2.019176e+10</td>\n",
       "      <td>19362969582.3643 ,\"</td>\n",
       "    </tr>\n",
       "    <tr>\n",
       "      <th>2</th>\n",
       "      <td>\"Angola, AGO</td>\n",
       "      <td>GDP (current US$)</td>\n",
       "      <td>NY.GDP.MKTP.CD</td>\n",
       "      <td>NaN</td>\n",
       "      <td>NaN</td>\n",
       "      <td>NaN</td>\n",
       "      <td>NaN</td>\n",
       "      <td>NaN</td>\n",
       "      <td>NaN</td>\n",
       "      <td>NaN</td>\n",
       "      <td>...</td>\n",
       "      <td>7.030716e+10</td>\n",
       "      <td>8.379950e+10</td>\n",
       "      <td>1.117897e+11</td>\n",
       "      <td>1.280529e+11</td>\n",
       "      <td>1.367099e+11</td>\n",
       "      <td>1.457122e+11</td>\n",
       "      <td>1.161936e+11</td>\n",
       "      <td>1.011239e+11</td>\n",
       "      <td>1.221238e+11</td>\n",
       "      <td>105750987618.63 ,\"</td>\n",
       "    </tr>\n",
       "    <tr>\n",
       "      <th>3</th>\n",
       "      <td>\"Albania, ALB</td>\n",
       "      <td>GDP (current US$)</td>\n",
       "      <td>NY.GDP.MKTP.CD</td>\n",
       "      <td>NaN</td>\n",
       "      <td>NaN</td>\n",
       "      <td>NaN</td>\n",
       "      <td>NaN</td>\n",
       "      <td>NaN</td>\n",
       "      <td>NaN</td>\n",
       "      <td>NaN</td>\n",
       "      <td>...</td>\n",
       "      <td>1.204421e+10</td>\n",
       "      <td>1.192695e+10</td>\n",
       "      <td>1.289087e+10</td>\n",
       "      <td>1.231978e+10</td>\n",
       "      <td>1.277628e+10</td>\n",
       "      <td>1.322825e+10</td>\n",
       "      <td>1.138693e+10</td>\n",
       "      <td>1.186135e+10</td>\n",
       "      <td>1.302506e+10</td>\n",
       "      <td>15058879128.6536 ,\"</td>\n",
       "    </tr>\n",
       "    <tr>\n",
       "      <th>4</th>\n",
       "      <td>\"Andorra, AND</td>\n",
       "      <td>GDP (current US$)</td>\n",
       "      <td>NY.GDP.MKTP.CD</td>\n",
       "      <td>NaN</td>\n",
       "      <td>NaN</td>\n",
       "      <td>NaN</td>\n",
       "      <td>NaN</td>\n",
       "      <td>NaN</td>\n",
       "      <td>NaN</td>\n",
       "      <td>NaN</td>\n",
       "      <td>...</td>\n",
       "      <td>3.660531e+09</td>\n",
       "      <td>3.355695e+09</td>\n",
       "      <td>3.442063e+09</td>\n",
       "      <td>3.164615e+09</td>\n",
       "      <td>3.281585e+09</td>\n",
       "      <td>3.350736e+09</td>\n",
       "      <td>2.811489e+09</td>\n",
       "      <td>2.877312e+09</td>\n",
       "      <td>3.013387e+09</td>\n",
       "      <td>3236543909.34844 ,\"</td>\n",
       "    </tr>\n",
       "  </tbody>\n",
       "</table>\n",
       "<p>5 rows × 62 columns</p>\n",
       "</div>"
      ],
      "text/plain": [
       "  \"Country Name, Country Code     Indicator Name  Indicator Code  \\\n",
       "0                 \"Aruba, ABW  GDP (current US$)  NY.GDP.MKTP.CD   \n",
       "1           \"Afghanistan, AFG  GDP (current US$)  NY.GDP.MKTP.CD   \n",
       "2                \"Angola, AGO  GDP (current US$)  NY.GDP.MKTP.CD   \n",
       "3               \"Albania, ALB  GDP (current US$)  NY.GDP.MKTP.CD   \n",
       "4               \"Andorra, AND  GDP (current US$)  NY.GDP.MKTP.CD   \n",
       "\n",
       "           1960          1961          1962          1963          1964  \\\n",
       "0           NaN           NaN           NaN           NaN           NaN   \n",
       "1  5.377778e+08  5.488889e+08  5.466667e+08  7.511112e+08  8.000000e+08   \n",
       "2           NaN           NaN           NaN           NaN           NaN   \n",
       "3           NaN           NaN           NaN           NaN           NaN   \n",
       "4           NaN           NaN           NaN           NaN           NaN   \n",
       "\n",
       "           1965          1966  ...          2009          2010          2011  \\\n",
       "0           NaN           NaN  ...  2.498883e+09  2.390503e+09  2.549721e+09   \n",
       "1  1.006667e+09  1.400000e+09  ...  1.243909e+10  1.585657e+10  1.780428e+10   \n",
       "2           NaN           NaN  ...  7.030716e+10  8.379950e+10  1.117897e+11   \n",
       "3           NaN           NaN  ...  1.204421e+10  1.192695e+10  1.289087e+10   \n",
       "4           NaN           NaN  ...  3.660531e+09  3.355695e+09  3.442063e+09   \n",
       "\n",
       "           2012          2013          2014          2015          2016  \\\n",
       "0  2.534637e+09  2.581564e+09  2.649721e+09  2.691620e+09  2.646927e+09   \n",
       "1  2.000162e+10  2.056105e+10  2.048487e+10  1.990711e+10  1.936264e+10   \n",
       "2  1.280529e+11  1.367099e+11  1.457122e+11  1.161936e+11  1.011239e+11   \n",
       "3  1.231978e+10  1.277628e+10  1.322825e+10  1.138693e+10  1.186135e+10   \n",
       "4  3.164615e+09  3.281585e+09  3.350736e+09  2.811489e+09  2.877312e+09   \n",
       "\n",
       "           2017              2018 ,\"  \n",
       "0  2.700559e+09                   ,\"  \n",
       "1  2.019176e+10  19362969582.3643 ,\"  \n",
       "2  1.221238e+11   105750987618.63 ,\"  \n",
       "3  1.302506e+10  15058879128.6536 ,\"  \n",
       "4  3.013387e+09  3236543909.34844 ,\"  \n",
       "\n",
       "[5 rows x 62 columns]"
      ]
     },
     "execution_count": 17,
     "metadata": {},
     "output_type": "execute_result"
    }
   ],
   "source": [
    "medium_GDP = pd.read_csv(\"medium_GDP.csv\", sep = ' , ');\n",
    "medium_GDP.head()"
   ]
  },
  {
   "cell_type": "markdown",
   "metadata": {},
   "source": [
    "#### In this case, due the incorrect formating of GDP dataset we have two information in the first column, so we need treat it to extract only the information wanted, after this treat the dataset will rename to medium_GDP."
   ]
  },
  {
   "cell_type": "code",
   "execution_count": 18,
   "metadata": {},
   "outputs": [
    {
     "name": "stderr",
     "output_type": "stream",
     "text": [
      "C:\\Users\\Anthony\\Anaconda3\\lib\\site-packages\\ipykernel_launcher.py:1: ParserWarning: Falling back to the 'python' engine because the 'c' engine does not support regex separators (separators > 1 char and different from '\\s+' are interpreted as regex); you can avoid this warning by specifying engine='python'.\n",
      "  \"\"\"Entry point for launching an IPython kernel.\n",
      "C:\\Users\\Anthony\\Anaconda3\\lib\\site-packages\\ipykernel_launcher.py:4: SettingWithCopyWarning: \n",
      "A value is trying to be set on a copy of a slice from a DataFrame\n",
      "\n",
      "See the caveats in the documentation: http://pandas.pydata.org/pandas-docs/stable/indexing.html#indexing-view-versus-copy\n",
      "  after removing the cwd from sys.path.\n"
     ]
    },
    {
     "data": {
      "text/html": [
       "<div>\n",
       "<style scoped>\n",
       "    .dataframe tbody tr th:only-of-type {\n",
       "        vertical-align: middle;\n",
       "    }\n",
       "\n",
       "    .dataframe tbody tr th {\n",
       "        vertical-align: top;\n",
       "    }\n",
       "\n",
       "    .dataframe thead th {\n",
       "        text-align: right;\n",
       "    }\n",
       "</style>\n",
       "<table border=\"1\" class=\"dataframe\">\n",
       "  <thead>\n",
       "    <tr style=\"text-align: right;\">\n",
       "      <th></th>\n",
       "      <th>Country_Name</th>\n",
       "      <th>Indicator Name</th>\n",
       "      <th>Indicator Code</th>\n",
       "      <th>1960</th>\n",
       "      <th>1961</th>\n",
       "      <th>1962</th>\n",
       "      <th>1963</th>\n",
       "      <th>1964</th>\n",
       "      <th>1965</th>\n",
       "      <th>1966</th>\n",
       "      <th>...</th>\n",
       "      <th>2009</th>\n",
       "      <th>2010</th>\n",
       "      <th>2011</th>\n",
       "      <th>2012</th>\n",
       "      <th>2013</th>\n",
       "      <th>2014</th>\n",
       "      <th>2015</th>\n",
       "      <th>2016</th>\n",
       "      <th>2017</th>\n",
       "      <th>2018 ,\"</th>\n",
       "    </tr>\n",
       "  </thead>\n",
       "  <tbody>\n",
       "    <tr>\n",
       "      <th>0</th>\n",
       "      <td>Aruba</td>\n",
       "      <td>GDP (current US$)</td>\n",
       "      <td>NY.GDP.MKTP.CD</td>\n",
       "      <td>NaN</td>\n",
       "      <td>NaN</td>\n",
       "      <td>NaN</td>\n",
       "      <td>NaN</td>\n",
       "      <td>NaN</td>\n",
       "      <td>NaN</td>\n",
       "      <td>NaN</td>\n",
       "      <td>...</td>\n",
       "      <td>2.498883e+09</td>\n",
       "      <td>2.390503e+09</td>\n",
       "      <td>2.549721e+09</td>\n",
       "      <td>2.534637e+09</td>\n",
       "      <td>2.581564e+09</td>\n",
       "      <td>2.649721e+09</td>\n",
       "      <td>2.691620e+09</td>\n",
       "      <td>2.646927e+09</td>\n",
       "      <td>2.700559e+09</td>\n",
       "      <td>,\"</td>\n",
       "    </tr>\n",
       "    <tr>\n",
       "      <th>1</th>\n",
       "      <td>Afghanistan</td>\n",
       "      <td>GDP (current US$)</td>\n",
       "      <td>NY.GDP.MKTP.CD</td>\n",
       "      <td>5.377778e+08</td>\n",
       "      <td>5.488889e+08</td>\n",
       "      <td>5.466667e+08</td>\n",
       "      <td>7.511112e+08</td>\n",
       "      <td>8.000000e+08</td>\n",
       "      <td>1.006667e+09</td>\n",
       "      <td>1.400000e+09</td>\n",
       "      <td>...</td>\n",
       "      <td>1.243909e+10</td>\n",
       "      <td>1.585657e+10</td>\n",
       "      <td>1.780428e+10</td>\n",
       "      <td>2.000162e+10</td>\n",
       "      <td>2.056105e+10</td>\n",
       "      <td>2.048487e+10</td>\n",
       "      <td>1.990711e+10</td>\n",
       "      <td>1.936264e+10</td>\n",
       "      <td>2.019176e+10</td>\n",
       "      <td>19362969582.3643 ,\"</td>\n",
       "    </tr>\n",
       "    <tr>\n",
       "      <th>2</th>\n",
       "      <td>Angola</td>\n",
       "      <td>GDP (current US$)</td>\n",
       "      <td>NY.GDP.MKTP.CD</td>\n",
       "      <td>NaN</td>\n",
       "      <td>NaN</td>\n",
       "      <td>NaN</td>\n",
       "      <td>NaN</td>\n",
       "      <td>NaN</td>\n",
       "      <td>NaN</td>\n",
       "      <td>NaN</td>\n",
       "      <td>...</td>\n",
       "      <td>7.030716e+10</td>\n",
       "      <td>8.379950e+10</td>\n",
       "      <td>1.117897e+11</td>\n",
       "      <td>1.280529e+11</td>\n",
       "      <td>1.367099e+11</td>\n",
       "      <td>1.457122e+11</td>\n",
       "      <td>1.161936e+11</td>\n",
       "      <td>1.011239e+11</td>\n",
       "      <td>1.221238e+11</td>\n",
       "      <td>105750987618.63 ,\"</td>\n",
       "    </tr>\n",
       "    <tr>\n",
       "      <th>3</th>\n",
       "      <td>Albania</td>\n",
       "      <td>GDP (current US$)</td>\n",
       "      <td>NY.GDP.MKTP.CD</td>\n",
       "      <td>NaN</td>\n",
       "      <td>NaN</td>\n",
       "      <td>NaN</td>\n",
       "      <td>NaN</td>\n",
       "      <td>NaN</td>\n",
       "      <td>NaN</td>\n",
       "      <td>NaN</td>\n",
       "      <td>...</td>\n",
       "      <td>1.204421e+10</td>\n",
       "      <td>1.192695e+10</td>\n",
       "      <td>1.289087e+10</td>\n",
       "      <td>1.231978e+10</td>\n",
       "      <td>1.277628e+10</td>\n",
       "      <td>1.322825e+10</td>\n",
       "      <td>1.138693e+10</td>\n",
       "      <td>1.186135e+10</td>\n",
       "      <td>1.302506e+10</td>\n",
       "      <td>15058879128.6536 ,\"</td>\n",
       "    </tr>\n",
       "    <tr>\n",
       "      <th>4</th>\n",
       "      <td>Andorra</td>\n",
       "      <td>GDP (current US$)</td>\n",
       "      <td>NY.GDP.MKTP.CD</td>\n",
       "      <td>NaN</td>\n",
       "      <td>NaN</td>\n",
       "      <td>NaN</td>\n",
       "      <td>NaN</td>\n",
       "      <td>NaN</td>\n",
       "      <td>NaN</td>\n",
       "      <td>NaN</td>\n",
       "      <td>...</td>\n",
       "      <td>3.660531e+09</td>\n",
       "      <td>3.355695e+09</td>\n",
       "      <td>3.442063e+09</td>\n",
       "      <td>3.164615e+09</td>\n",
       "      <td>3.281585e+09</td>\n",
       "      <td>3.350736e+09</td>\n",
       "      <td>2.811489e+09</td>\n",
       "      <td>2.877312e+09</td>\n",
       "      <td>3.013387e+09</td>\n",
       "      <td>3236543909.34844 ,\"</td>\n",
       "    </tr>\n",
       "  </tbody>\n",
       "</table>\n",
       "<p>5 rows × 62 columns</p>\n",
       "</div>"
      ],
      "text/plain": [
       "  Country_Name     Indicator Name  Indicator Code          1960          1961  \\\n",
       "0        Aruba  GDP (current US$)  NY.GDP.MKTP.CD           NaN           NaN   \n",
       "1  Afghanistan  GDP (current US$)  NY.GDP.MKTP.CD  5.377778e+08  5.488889e+08   \n",
       "2       Angola  GDP (current US$)  NY.GDP.MKTP.CD           NaN           NaN   \n",
       "3      Albania  GDP (current US$)  NY.GDP.MKTP.CD           NaN           NaN   \n",
       "4      Andorra  GDP (current US$)  NY.GDP.MKTP.CD           NaN           NaN   \n",
       "\n",
       "           1962          1963          1964          1965          1966  ...  \\\n",
       "0           NaN           NaN           NaN           NaN           NaN  ...   \n",
       "1  5.466667e+08  7.511112e+08  8.000000e+08  1.006667e+09  1.400000e+09  ...   \n",
       "2           NaN           NaN           NaN           NaN           NaN  ...   \n",
       "3           NaN           NaN           NaN           NaN           NaN  ...   \n",
       "4           NaN           NaN           NaN           NaN           NaN  ...   \n",
       "\n",
       "           2009          2010          2011          2012          2013  \\\n",
       "0  2.498883e+09  2.390503e+09  2.549721e+09  2.534637e+09  2.581564e+09   \n",
       "1  1.243909e+10  1.585657e+10  1.780428e+10  2.000162e+10  2.056105e+10   \n",
       "2  7.030716e+10  8.379950e+10  1.117897e+11  1.280529e+11  1.367099e+11   \n",
       "3  1.204421e+10  1.192695e+10  1.289087e+10  1.231978e+10  1.277628e+10   \n",
       "4  3.660531e+09  3.355695e+09  3.442063e+09  3.164615e+09  3.281585e+09   \n",
       "\n",
       "           2014          2015          2016          2017              2018 ,\"  \n",
       "0  2.649721e+09  2.691620e+09  2.646927e+09  2.700559e+09                   ,\"  \n",
       "1  2.048487e+10  1.990711e+10  1.936264e+10  2.019176e+10  19362969582.3643 ,\"  \n",
       "2  1.457122e+11  1.161936e+11  1.011239e+11  1.221238e+11   105750987618.63 ,\"  \n",
       "3  1.322825e+10  1.138693e+10  1.186135e+10  1.302506e+10  15058879128.6536 ,\"  \n",
       "4  3.350736e+09  2.811489e+09  2.877312e+09  3.013387e+09  3236543909.34844 ,\"  \n",
       "\n",
       "[5 rows x 62 columns]"
      ]
     },
     "execution_count": 18,
     "metadata": {},
     "output_type": "execute_result"
    }
   ],
   "source": [
    "medium_GDP = pd.read_csv(\"medium_GDP.csv\", sep = ' , ');\n",
    "for n,i in enumerate(medium_GDP['\"Country Name, Country Code']):    \n",
    "    transition = str(medium_GDP['\"Country Name, Country Code'][n]).split(', ')[0]\n",
    "    medium_GDP['\"Country Name, Country Code'][n] = str(transition).replace('\"','')\n",
    "medium_GDP = medium_GDP.rename(columns = {'\"Country Name, Country Code':'Country_Name'}) \n",
    "medium_GDP.head()"
   ]
  },
  {
   "cell_type": "markdown",
   "metadata": {},
   "source": [
    "#### Searching for Countries with name starts with \"R\""
   ]
  },
  {
   "cell_type": "code",
   "execution_count": 19,
   "metadata": {},
   "outputs": [
    {
     "data": {
      "text/html": [
       "<div>\n",
       "<style scoped>\n",
       "    .dataframe tbody tr th:only-of-type {\n",
       "        vertical-align: middle;\n",
       "    }\n",
       "\n",
       "    .dataframe tbody tr th {\n",
       "        vertical-align: top;\n",
       "    }\n",
       "\n",
       "    .dataframe thead th {\n",
       "        text-align: right;\n",
       "    }\n",
       "</style>\n",
       "<table border=\"1\" class=\"dataframe\">\n",
       "  <thead>\n",
       "    <tr style=\"text-align: right;\">\n",
       "      <th></th>\n",
       "      <th>Country_Name</th>\n",
       "      <th>Indicator Name</th>\n",
       "      <th>Indicator Code</th>\n",
       "      <th>1960</th>\n",
       "      <th>1961</th>\n",
       "      <th>1962</th>\n",
       "      <th>1963</th>\n",
       "      <th>1964</th>\n",
       "      <th>1965</th>\n",
       "      <th>1966</th>\n",
       "      <th>...</th>\n",
       "      <th>2009</th>\n",
       "      <th>2010</th>\n",
       "      <th>2011</th>\n",
       "      <th>2012</th>\n",
       "      <th>2013</th>\n",
       "      <th>2014</th>\n",
       "      <th>2015</th>\n",
       "      <th>2016</th>\n",
       "      <th>2017</th>\n",
       "      <th>2018 ,\"</th>\n",
       "    </tr>\n",
       "  </thead>\n",
       "  <tbody>\n",
       "    <tr>\n",
       "      <th>199</th>\n",
       "      <td>Romania</td>\n",
       "      <td>GDP (current US$)</td>\n",
       "      <td>NY.GDP.MKTP.CD</td>\n",
       "      <td>NaN</td>\n",
       "      <td>NaN</td>\n",
       "      <td>NaN</td>\n",
       "      <td>NaN</td>\n",
       "      <td>NaN</td>\n",
       "      <td>NaN</td>\n",
       "      <td>NaN</td>\n",
       "      <td>...</td>\n",
       "      <td>1.741037e+11</td>\n",
       "      <td>1.662252e+11</td>\n",
       "      <td>1.834432e+11</td>\n",
       "      <td>1.711963e+11</td>\n",
       "      <td>1.909491e+11</td>\n",
       "      <td>1.996268e+11</td>\n",
       "      <td>1.778935e+11</td>\n",
       "      <td>1.884941e+11</td>\n",
       "      <td>2.114069e+11</td>\n",
       "      <td>239552516744.469 ,\"</td>\n",
       "    </tr>\n",
       "    <tr>\n",
       "      <th>200</th>\n",
       "      <td>Russian Federation</td>\n",
       "      <td>GDP (current US$)</td>\n",
       "      <td>NY.GDP.MKTP.CD</td>\n",
       "      <td>NaN</td>\n",
       "      <td>NaN</td>\n",
       "      <td>NaN</td>\n",
       "      <td>NaN</td>\n",
       "      <td>NaN</td>\n",
       "      <td>NaN</td>\n",
       "      <td>NaN</td>\n",
       "      <td>...</td>\n",
       "      <td>1.222644e+12</td>\n",
       "      <td>1.524917e+12</td>\n",
       "      <td>2.051662e+12</td>\n",
       "      <td>2.210257e+12</td>\n",
       "      <td>2.297128e+12</td>\n",
       "      <td>2.059984e+12</td>\n",
       "      <td>1.363594e+12</td>\n",
       "      <td>1.282724e+12</td>\n",
       "      <td>1.578624e+12</td>\n",
       "      <td>1657553765580.67 ,\"</td>\n",
       "    </tr>\n",
       "    <tr>\n",
       "      <th>201</th>\n",
       "      <td>Rwanda</td>\n",
       "      <td>GDP (current US$)</td>\n",
       "      <td>NY.GDP.MKTP.CD</td>\n",
       "      <td>119000024.0</td>\n",
       "      <td>122000016.0</td>\n",
       "      <td>125000008.0</td>\n",
       "      <td>128000000.0</td>\n",
       "      <td>129999994.0</td>\n",
       "      <td>148799980.0</td>\n",
       "      <td>1.245257e+08</td>\n",
       "      <td>...</td>\n",
       "      <td>5.373089e+09</td>\n",
       "      <td>5.783153e+09</td>\n",
       "      <td>6.563321e+09</td>\n",
       "      <td>7.334918e+09</td>\n",
       "      <td>7.621923e+09</td>\n",
       "      <td>8.016592e+09</td>\n",
       "      <td>8.277613e+09</td>\n",
       "      <td>8.475682e+09</td>\n",
       "      <td>9.135454e+09</td>\n",
       "      <td>9509003196.73999 ,\"</td>\n",
       "    </tr>\n",
       "  </tbody>\n",
       "</table>\n",
       "<p>3 rows × 62 columns</p>\n",
       "</div>"
      ],
      "text/plain": [
       "           Country_Name     Indicator Name  Indicator Code         1960  \\\n",
       "199             Romania  GDP (current US$)  NY.GDP.MKTP.CD          NaN   \n",
       "200  Russian Federation  GDP (current US$)  NY.GDP.MKTP.CD          NaN   \n",
       "201              Rwanda  GDP (current US$)  NY.GDP.MKTP.CD  119000024.0   \n",
       "\n",
       "            1961         1962         1963         1964         1965  \\\n",
       "199          NaN          NaN          NaN          NaN          NaN   \n",
       "200          NaN          NaN          NaN          NaN          NaN   \n",
       "201  122000016.0  125000008.0  128000000.0  129999994.0  148799980.0   \n",
       "\n",
       "             1966  ...          2009          2010          2011  \\\n",
       "199           NaN  ...  1.741037e+11  1.662252e+11  1.834432e+11   \n",
       "200           NaN  ...  1.222644e+12  1.524917e+12  2.051662e+12   \n",
       "201  1.245257e+08  ...  5.373089e+09  5.783153e+09  6.563321e+09   \n",
       "\n",
       "             2012          2013          2014          2015          2016  \\\n",
       "199  1.711963e+11  1.909491e+11  1.996268e+11  1.778935e+11  1.884941e+11   \n",
       "200  2.210257e+12  2.297128e+12  2.059984e+12  1.363594e+12  1.282724e+12   \n",
       "201  7.334918e+09  7.621923e+09  8.016592e+09  8.277613e+09  8.475682e+09   \n",
       "\n",
       "             2017              2018 ,\"  \n",
       "199  2.114069e+11  239552516744.469 ,\"  \n",
       "200  1.578624e+12  1657553765580.67 ,\"  \n",
       "201  9.135454e+09  9509003196.73999 ,\"  \n",
       "\n",
       "[3 rows x 62 columns]"
      ]
     },
     "execution_count": 19,
     "metadata": {},
     "output_type": "execute_result"
    }
   ],
   "source": [
    "medium_GDP.loc[medium_GDP['Country_Name'].str.startswith(\"R\")]"
   ]
  },
  {
   "cell_type": "markdown",
   "metadata": {},
   "source": [
    "#### So now, we have an acceptable dataframe and we can apply the filter to obtain just Russian Federation GDP."
   ]
  },
  {
   "cell_type": "code",
   "execution_count": 20,
   "metadata": {},
   "outputs": [],
   "source": [
    "Russia_GDP = medium_GDP[medium_GDP['Country_Name'] == 'Russian Federation']"
   ]
  },
  {
   "cell_type": "code",
   "execution_count": 21,
   "metadata": {},
   "outputs": [],
   "source": [
    "Russia_GDP = Russia_GDP.transpose().reset_index()\n",
    "#Russia_GDP = Russia_GDP.drop(Russia_GDP.index[:3])"
   ]
  },
  {
   "cell_type": "code",
   "execution_count": 22,
   "metadata": {},
   "outputs": [],
   "source": [
    "Russia_GDP = Russia_GDP.drop(Russia_GDP.index[:3])\n",
    "Russia_GDP_interval = Russia_GDP[53:57]\n",
    "Russia_GDP_interval.columns = ['Year', 'GDP']"
   ]
  },
  {
   "cell_type": "code",
   "execution_count": 23,
   "metadata": {},
   "outputs": [
    {
     "name": "stderr",
     "output_type": "stream",
     "text": [
      "C:\\Users\\Anthony\\Anaconda3\\lib\\site-packages\\ipykernel_launcher.py:1: SettingWithCopyWarning: \n",
      "A value is trying to be set on a copy of a slice from a DataFrame.\n",
      "Try using .loc[row_indexer,col_indexer] = value instead\n",
      "\n",
      "See the caveats in the documentation: http://pandas.pydata.org/pandas-docs/stable/indexing.html#indexing-view-versus-copy\n",
      "  \"\"\"Entry point for launching an IPython kernel.\n",
      "C:\\Users\\Anthony\\Anaconda3\\lib\\site-packages\\ipykernel_launcher.py:2: SettingWithCopyWarning: \n",
      "A value is trying to be set on a copy of a slice from a DataFrame.\n",
      "Try using .loc[row_indexer,col_indexer] = value instead\n",
      "\n",
      "See the caveats in the documentation: http://pandas.pydata.org/pandas-docs/stable/indexing.html#indexing-view-versus-copy\n",
      "  \n"
     ]
    },
    {
     "data": {
      "text/html": [
       "<div>\n",
       "<style scoped>\n",
       "    .dataframe tbody tr th:only-of-type {\n",
       "        vertical-align: middle;\n",
       "    }\n",
       "\n",
       "    .dataframe tbody tr th {\n",
       "        vertical-align: top;\n",
       "    }\n",
       "\n",
       "    .dataframe thead th {\n",
       "        text-align: right;\n",
       "    }\n",
       "</style>\n",
       "<table border=\"1\" class=\"dataframe\">\n",
       "  <thead>\n",
       "    <tr style=\"text-align: right;\">\n",
       "      <th></th>\n",
       "      <th>Year</th>\n",
       "      <th>GDP</th>\n",
       "    </tr>\n",
       "  </thead>\n",
       "  <tbody>\n",
       "    <tr>\n",
       "      <th>0</th>\n",
       "      <td>2013-01-01</td>\n",
       "      <td>2.297128e+12</td>\n",
       "    </tr>\n",
       "    <tr>\n",
       "      <th>1</th>\n",
       "      <td>2014-01-01</td>\n",
       "      <td>2.059984e+12</td>\n",
       "    </tr>\n",
       "    <tr>\n",
       "      <th>2</th>\n",
       "      <td>2015-01-01</td>\n",
       "      <td>1.363594e+12</td>\n",
       "    </tr>\n",
       "    <tr>\n",
       "      <th>3</th>\n",
       "      <td>2016-01-01</td>\n",
       "      <td>1.282724e+12</td>\n",
       "    </tr>\n",
       "  </tbody>\n",
       "</table>\n",
       "</div>"
      ],
      "text/plain": [
       "        Year           GDP\n",
       "0 2013-01-01  2.297128e+12\n",
       "1 2014-01-01  2.059984e+12\n",
       "2 2015-01-01  1.363594e+12\n",
       "3 2016-01-01  1.282724e+12"
      ]
     },
     "execution_count": 23,
     "metadata": {},
     "output_type": "execute_result"
    }
   ],
   "source": [
    "Russia_GDP_interval['GDP'] = pd.to_numeric(Russia_GDP_interval['GDP'] )\n",
    "Russia_GDP_interval['Year'] = pd.to_datetime(Russia_GDP_interval['Year'], format = '%Y')\n",
    "Russia_GDP_interval = Russia_GDP_interval.reset_index()\n",
    "del Russia_GDP_interval['index']\n",
    "Russia_GDP_interval.head()"
   ]
  },
  {
   "cell_type": "code",
   "execution_count": 25,
   "metadata": {},
   "outputs": [
    {
     "data": {
      "image/png": "[encoded data removed]",
      "text/plain": [
       "<Figure size 1080x504 with 1 Axes>"
      ]
     },
     "metadata": {
      "needs_background": "light"
     },
     "output_type": "display_data"
    }
   ],
   "source": [
    "dim = (15, 7)\n",
    "fig, ax = plt.subplots(figsize=dim)\n",
    "ax = sns.lineplot(x=\"Year\", y=\"GDP\", color = 'royalblue',data=Russia_GDP_interval)"
   ]
  },
  {
   "cell_type": "markdown",
   "metadata": {},
   "source": [
    "#### Due the GDP is yearly we need to apply a regression to split the year interval in days, apply a simple polynomial regression we can find the estimated value for each day. The polynomial model will use the 4 points in the graph and generate the graph equation through the curve. We use the polynomial regression 4th order, because it will be enough to fit to the graph."
   ]
  },
  {
   "cell_type": "code",
   "execution_count": 26,
   "metadata": {},
   "outputs": [
    {
     "name": "stdout",
     "output_type": "stream",
     "text": [
      "       4         3             2\n",
      "2.017 x - 732.8 x - 2.802e+06 x + 3.725e+08 x + 2.297e+12\n"
     ]
    },
    {
     "name": "stderr",
     "output_type": "stream",
     "text": [
      "C:\\Users\\Anthony\\Anaconda3\\lib\\site-packages\\ipykernel_launcher.py:3: RankWarning: Polyfit may be poorly conditioned\n",
      "  This is separate from the ipykernel package so we can avoid doing imports until\n"
     ]
    }
   ],
   "source": [
    "x= [0,365,730,1095]  #2013,2014,2015,2016\n",
    "y=np.asarray(Russia_GDP_interval['GDP'])\n",
    "f = np.polyfit(x, y, 4)\n",
    "polEquation = np.poly1d(f)\n",
    "print(polEquation)"
   ]
  },
  {
   "cell_type": "markdown",
   "metadata": {},
   "source": [
    "#### We will export the main dataframe to avoid rework, so I will use the Games - PS3 dataset that we already have to ensure valid structure compative with the mains dataset."
   ]
  },
  {
   "cell_type": "code",
   "execution_count": 27,
   "metadata": {},
   "outputs": [],
   "source": [
    "category1_TS = pd.read_csv(\"category1_TS.csv\", sep = \",\");"
   ]
  },
  {
   "cell_type": "code",
   "execution_count": 28,
   "metadata": {},
   "outputs": [
    {
     "data": {
      "text/html": [
       "<div>\n",
       "<style scoped>\n",
       "    .dataframe tbody tr th:only-of-type {\n",
       "        vertical-align: middle;\n",
       "    }\n",
       "\n",
       "    .dataframe tbody tr th {\n",
       "        vertical-align: top;\n",
       "    }\n",
       "\n",
       "    .dataframe thead th {\n",
       "        text-align: right;\n",
       "    }\n",
       "</style>\n",
       "<table border=\"1\" class=\"dataframe\">\n",
       "  <thead>\n",
       "    <tr style=\"text-align: right;\">\n",
       "      <th></th>\n",
       "      <th>Day</th>\n",
       "      <th>Date</th>\n",
       "      <th>Price</th>\n",
       "      <th>Freq</th>\n",
       "      <th>Invoice</th>\n",
       "      <th>DayofWeek</th>\n",
       "      <th>Weekofyear</th>\n",
       "      <th>Quarter</th>\n",
       "    </tr>\n",
       "  </thead>\n",
       "  <tbody>\n",
       "    <tr>\n",
       "      <th>0</th>\n",
       "      <td>0</td>\n",
       "      <td>2013-01-01</td>\n",
       "      <td>1479.487115</td>\n",
       "      <td>128</td>\n",
       "      <td>189374.350769</td>\n",
       "      <td>1</td>\n",
       "      <td>1</td>\n",
       "      <td>1</td>\n",
       "    </tr>\n",
       "    <tr>\n",
       "      <th>1</th>\n",
       "      <td>1</td>\n",
       "      <td>2013-01-02</td>\n",
       "      <td>1561.694303</td>\n",
       "      <td>525</td>\n",
       "      <td>819889.508928</td>\n",
       "      <td>2</td>\n",
       "      <td>1</td>\n",
       "      <td>1</td>\n",
       "    </tr>\n",
       "    <tr>\n",
       "      <th>2</th>\n",
       "      <td>2</td>\n",
       "      <td>2013-01-03</td>\n",
       "      <td>1483.195423</td>\n",
       "      <td>443</td>\n",
       "      <td>657055.572183</td>\n",
       "      <td>3</td>\n",
       "      <td>1</td>\n",
       "      <td>1</td>\n",
       "    </tr>\n",
       "    <tr>\n",
       "      <th>3</th>\n",
       "      <td>3</td>\n",
       "      <td>2013-01-04</td>\n",
       "      <td>1532.475859</td>\n",
       "      <td>399</td>\n",
       "      <td>611457.867576</td>\n",
       "      <td>4</td>\n",
       "      <td>1</td>\n",
       "      <td>1</td>\n",
       "    </tr>\n",
       "    <tr>\n",
       "      <th>4</th>\n",
       "      <td>4</td>\n",
       "      <td>2013-01-05</td>\n",
       "      <td>1490.351956</td>\n",
       "      <td>399</td>\n",
       "      <td>594650.430267</td>\n",
       "      <td>5</td>\n",
       "      <td>1</td>\n",
       "      <td>1</td>\n",
       "    </tr>\n",
       "  </tbody>\n",
       "</table>\n",
       "</div>"
      ],
      "text/plain": [
       "   Day        Date        Price  Freq        Invoice  DayofWeek  Weekofyear  \\\n",
       "0    0  2013-01-01  1479.487115   128  189374.350769          1           1   \n",
       "1    1  2013-01-02  1561.694303   525  819889.508928          2           1   \n",
       "2    2  2013-01-03  1483.195423   443  657055.572183          3           1   \n",
       "3    3  2013-01-04  1532.475859   399  611457.867576          4           1   \n",
       "4    4  2013-01-05  1490.351956   399  594650.430267          5           1   \n",
       "\n",
       "   Quarter  \n",
       "0        1  \n",
       "1        1  \n",
       "2        1  \n",
       "3        1  \n",
       "4        1  "
      ]
     },
     "execution_count": 28,
     "metadata": {},
     "output_type": "execute_result"
    }
   ],
   "source": [
    "category1_TS = category1_TS.reset_index()\n",
    "category1_TS = category1_TS.rename(columns = {'index':'Day'}) \n",
    "category1_TS.head()"
   ]
  },
  {
   "cell_type": "code",
   "execution_count": 29,
   "metadata": {},
   "outputs": [
    {
     "data": {
      "text/html": [
       "<div>\n",
       "<style scoped>\n",
       "    .dataframe tbody tr th:only-of-type {\n",
       "        vertical-align: middle;\n",
       "    }\n",
       "\n",
       "    .dataframe tbody tr th {\n",
       "        vertical-align: top;\n",
       "    }\n",
       "\n",
       "    .dataframe thead th {\n",
       "        text-align: right;\n",
       "    }\n",
       "</style>\n",
       "<table border=\"1\" class=\"dataframe\">\n",
       "  <thead>\n",
       "    <tr style=\"text-align: right;\">\n",
       "      <th></th>\n",
       "      <th>Day</th>\n",
       "      <th>Date</th>\n",
       "      <th>Price</th>\n",
       "      <th>Freq</th>\n",
       "      <th>Invoice</th>\n",
       "      <th>DayofWeek</th>\n",
       "      <th>Weekofyear</th>\n",
       "      <th>Quarter</th>\n",
       "      <th>GDP</th>\n",
       "    </tr>\n",
       "  </thead>\n",
       "  <tbody>\n",
       "    <tr>\n",
       "      <th>0</th>\n",
       "      <td>0</td>\n",
       "      <td>2013-01-01</td>\n",
       "      <td>1479.487115</td>\n",
       "      <td>128</td>\n",
       "      <td>189374.350769</td>\n",
       "      <td>1</td>\n",
       "      <td>1</td>\n",
       "      <td>1</td>\n",
       "      <td>2.297128e+12</td>\n",
       "    </tr>\n",
       "    <tr>\n",
       "      <th>1</th>\n",
       "      <td>1</td>\n",
       "      <td>2013-01-02</td>\n",
       "      <td>1561.694303</td>\n",
       "      <td>525</td>\n",
       "      <td>819889.508928</td>\n",
       "      <td>2</td>\n",
       "      <td>1</td>\n",
       "      <td>1</td>\n",
       "      <td>2.297498e+12</td>\n",
       "    </tr>\n",
       "    <tr>\n",
       "      <th>2</th>\n",
       "      <td>2</td>\n",
       "      <td>2013-01-03</td>\n",
       "      <td>1483.195423</td>\n",
       "      <td>443</td>\n",
       "      <td>657055.572183</td>\n",
       "      <td>3</td>\n",
       "      <td>1</td>\n",
       "      <td>1</td>\n",
       "      <td>2.297862e+12</td>\n",
       "    </tr>\n",
       "    <tr>\n",
       "      <th>3</th>\n",
       "      <td>3</td>\n",
       "      <td>2013-01-04</td>\n",
       "      <td>1532.475859</td>\n",
       "      <td>399</td>\n",
       "      <td>611457.867576</td>\n",
       "      <td>4</td>\n",
       "      <td>1</td>\n",
       "      <td>1</td>\n",
       "      <td>2.298220e+12</td>\n",
       "    </tr>\n",
       "    <tr>\n",
       "      <th>4</th>\n",
       "      <td>4</td>\n",
       "      <td>2013-01-05</td>\n",
       "      <td>1490.351956</td>\n",
       "      <td>399</td>\n",
       "      <td>594650.430267</td>\n",
       "      <td>5</td>\n",
       "      <td>1</td>\n",
       "      <td>1</td>\n",
       "      <td>2.298573e+12</td>\n",
       "    </tr>\n",
       "  </tbody>\n",
       "</table>\n",
       "</div>"
      ],
      "text/plain": [
       "   Day       Date        Price  Freq        Invoice  DayofWeek  Weekofyear  \\\n",
       "0    0 2013-01-01  1479.487115   128  189374.350769          1           1   \n",
       "1    1 2013-01-02  1561.694303   525  819889.508928          2           1   \n",
       "2    2 2013-01-03  1483.195423   443  657055.572183          3           1   \n",
       "3    3 2013-01-04  1532.475859   399  611457.867576          4           1   \n",
       "4    4 2013-01-05  1490.351956   399  594650.430267          5           1   \n",
       "\n",
       "   Quarter           GDP  \n",
       "0        1  2.297128e+12  \n",
       "1        1  2.297498e+12  \n",
       "2        1  2.297862e+12  \n",
       "3        1  2.298220e+12  \n",
       "4        1  2.298573e+12  "
      ]
     },
     "execution_count": 29,
     "metadata": {},
     "output_type": "execute_result"
    }
   ],
   "source": [
    "category1_TS['GDP'] = polEquation(category1_TS['Day'])\n",
    "category1_TS['Date'] = pd.to_datetime(category1_TS['Date'], format = '%Y.%m.%d')\n",
    "category1_TS.head()"
   ]
  },
  {
   "cell_type": "code",
   "execution_count": 30,
   "metadata": {},
   "outputs": [
    {
     "data": {
      "text/plain": [
       "<matplotlib.legend.Legend at 0x22a4a285470>"
      ]
     },
     "execution_count": 30,
     "metadata": {},
     "output_type": "execute_result"
    },
    {
     "data": {
      "image/png": "[encoded data removed]",
      "text/plain": [
       "<Figure size 1080x504 with 1 Axes>"
      ]
     },
     "metadata": {
      "needs_background": "light"
     },
     "output_type": "display_data"
    }
   ],
   "source": [
    "dim = (15, 7)\n",
    "fig, ax = plt.subplots(figsize=dim)\n",
    "ax = sns.lineplot(x=\"Date\", y=\"GDP\", color = 'tomato',data=category1_TS)\n",
    "ax2 = sns.lineplot(x=\"Year\", y=\"GDP\", color = 'royalblue',data=Russia_GDP_interval)\n",
    "plt.legend(title='GDP', loc='best', labels=['Estimated GDP', 'Data GDP'])"
   ]
  },
  {
   "cell_type": "code",
   "execution_count": 31,
   "metadata": {},
   "outputs": [],
   "source": [
    "Russia_GDP_Estimated = pd.DataFrame()\n",
    "Russia_GDP_Estimated['Date'] = category1_TS['Date']\n",
    "Russia_GDP_Estimated['GDP'] = category1_TS['GDP']\n",
    "Russia_GDP_Estimated.to_csv(\"Russia_GDP_Estimated.csv\", header = True, index = False)"
   ]
  },
  {
   "cell_type": "code",
   "execution_count": 32,
   "metadata": {},
   "outputs": [
    {
     "data": {
      "text/html": [
       "<div>\n",
       "<style scoped>\n",
       "    .dataframe tbody tr th:only-of-type {\n",
       "        vertical-align: middle;\n",
       "    }\n",
       "\n",
       "    .dataframe tbody tr th {\n",
       "        vertical-align: top;\n",
       "    }\n",
       "\n",
       "    .dataframe thead th {\n",
       "        text-align: right;\n",
       "    }\n",
       "</style>\n",
       "<table border=\"1\" class=\"dataframe\">\n",
       "  <thead>\n",
       "    <tr style=\"text-align: right;\">\n",
       "      <th></th>\n",
       "      <th>Date</th>\n",
       "      <th>GDP</th>\n",
       "    </tr>\n",
       "  </thead>\n",
       "  <tbody>\n",
       "    <tr>\n",
       "      <th>0</th>\n",
       "      <td>2013-01-01</td>\n",
       "      <td>2.297128e+12</td>\n",
       "    </tr>\n",
       "    <tr>\n",
       "      <th>1</th>\n",
       "      <td>2013-01-02</td>\n",
       "      <td>2.297498e+12</td>\n",
       "    </tr>\n",
       "    <tr>\n",
       "      <th>2</th>\n",
       "      <td>2013-01-03</td>\n",
       "      <td>2.297862e+12</td>\n",
       "    </tr>\n",
       "    <tr>\n",
       "      <th>3</th>\n",
       "      <td>2013-01-04</td>\n",
       "      <td>2.298220e+12</td>\n",
       "    </tr>\n",
       "    <tr>\n",
       "      <th>4</th>\n",
       "      <td>2013-01-05</td>\n",
       "      <td>2.298573e+12</td>\n",
       "    </tr>\n",
       "  </tbody>\n",
       "</table>\n",
       "</div>"
      ],
      "text/plain": [
       "        Date           GDP\n",
       "0 2013-01-01  2.297128e+12\n",
       "1 2013-01-02  2.297498e+12\n",
       "2 2013-01-03  2.297862e+12\n",
       "3 2013-01-04  2.298220e+12\n",
       "4 2013-01-05  2.298573e+12"
      ]
     },
     "execution_count": 32,
     "metadata": {},
     "output_type": "execute_result"
    }
   ],
   "source": [
    "Russia_GDP_Estimated.head()"
   ]
  },
  {
   "cell_type": "markdown",
   "metadata": {},
   "source": [
    "#### So now, we have a estimated Russia GDP values for each day in the interval of our time serie and now we can continue our economic features preparation"
   ]
  },
  {
   "cell_type": "markdown",
   "metadata": {},
   "source": [
    "# Preparing the Moscow Exchange Data\n",
    "#### The MOEX is the main ruble-denomiated benchmark of the Russia stock market, it will enable us to understand the Russia economy stock and the influency of stock in the Game Market. The data was found in the link: https://finance.yahoo.com/quote/IMOEX.ME/history/ ."
   ]
  },
  {
   "cell_type": "code",
   "execution_count": 33,
   "metadata": {},
   "outputs": [
    {
     "data": {
      "text/html": [
       "<div>\n",
       "<style scoped>\n",
       "    .dataframe tbody tr th:only-of-type {\n",
       "        vertical-align: middle;\n",
       "    }\n",
       "\n",
       "    .dataframe tbody tr th {\n",
       "        vertical-align: top;\n",
       "    }\n",
       "\n",
       "    .dataframe thead th {\n",
       "        text-align: right;\n",
       "    }\n",
       "</style>\n",
       "<table border=\"1\" class=\"dataframe\">\n",
       "  <thead>\n",
       "    <tr style=\"text-align: right;\">\n",
       "      <th></th>\n",
       "      <th>Date</th>\n",
       "      <th>Open</th>\n",
       "      <th>Max</th>\n",
       "      <th>Min</th>\n",
       "      <th>Close</th>\n",
       "      <th>Trading Volume, USD</th>\n",
       "      <th>Market Capitalization, USD</th>\n",
       "      <th>Unnamed: 7</th>\n",
       "    </tr>\n",
       "  </thead>\n",
       "  <tbody>\n",
       "    <tr>\n",
       "      <th>0</th>\n",
       "      <td>30.06.2015</td>\n",
       "      <td>926.48</td>\n",
       "      <td>939.93</td>\n",
       "      <td>916.06</td>\n",
       "      <td>939.93</td>\n",
       "      <td>488750114</td>\n",
       "      <td>139813401972</td>\n",
       "      <td>NaN</td>\n",
       "    </tr>\n",
       "    <tr>\n",
       "      <th>1</th>\n",
       "      <td>29.06.2015</td>\n",
       "      <td>938.73</td>\n",
       "      <td>938.73</td>\n",
       "      <td>921.74</td>\n",
       "      <td>928.03</td>\n",
       "      <td>341186023</td>\n",
       "      <td>138042910445</td>\n",
       "      <td>NaN</td>\n",
       "    </tr>\n",
       "    <tr>\n",
       "      <th>2</th>\n",
       "      <td>26.06.2015</td>\n",
       "      <td>940.14</td>\n",
       "      <td>944.23</td>\n",
       "      <td>933.75</td>\n",
       "      <td>943.01</td>\n",
       "      <td>456566033</td>\n",
       "      <td>140271600959</td>\n",
       "      <td>NaN</td>\n",
       "    </tr>\n",
       "    <tr>\n",
       "      <th>3</th>\n",
       "      <td>25.06.2015</td>\n",
       "      <td>951.77</td>\n",
       "      <td>956.86</td>\n",
       "      <td>941.32</td>\n",
       "      <td>941.32</td>\n",
       "      <td>349944666</td>\n",
       "      <td>140019336427</td>\n",
       "      <td>NaN</td>\n",
       "    </tr>\n",
       "    <tr>\n",
       "      <th>4</th>\n",
       "      <td>24.06.2015</td>\n",
       "      <td>966.98</td>\n",
       "      <td>974.63</td>\n",
       "      <td>949.42</td>\n",
       "      <td>951.45</td>\n",
       "      <td>406391547</td>\n",
       "      <td>141527160993</td>\n",
       "      <td>NaN</td>\n",
       "    </tr>\n",
       "  </tbody>\n",
       "</table>\n",
       "</div>"
      ],
      "text/plain": [
       "         Date    Open     Max     Min   Close  Trading Volume, USD  \\\n",
       "0  30.06.2015  926.48  939.93  916.06  939.93            488750114   \n",
       "1  29.06.2015  938.73  938.73  921.74  928.03            341186023   \n",
       "2  26.06.2015  940.14  944.23  933.75  943.01            456566033   \n",
       "3  25.06.2015  951.77  956.86  941.32  941.32            349944666   \n",
       "4  24.06.2015  966.98  974.63  949.42  951.45            406391547   \n",
       "\n",
       "   Market Capitalization, USD  Unnamed: 7  \n",
       "0                139813401972         NaN  \n",
       "1                138042910445         NaN  \n",
       "2                140271600959         NaN  \n",
       "3                140019336427         NaN  \n",
       "4                141527160993         NaN  "
      ]
     },
     "execution_count": 33,
     "metadata": {},
     "output_type": "execute_result"
    }
   ],
   "source": [
    "raw_MOEX = pd.read_csv(\"raw_MOEX.csv\", sep = \",\");\n",
    "raw_MOEX.head()"
   ]
  },
  {
   "cell_type": "markdown",
   "metadata": {},
   "source": [
    "#### Like the Rub in Dolar dataframe, we will get only the Open MOEX index value and remove the others datas and fill the weekend IMOEX value with the previous friday days values"
   ]
  },
  {
   "cell_type": "code",
   "execution_count": 34,
   "metadata": {},
   "outputs": [
    {
     "data": {
      "text/html": [
       "<div>\n",
       "<style scoped>\n",
       "    .dataframe tbody tr th:only-of-type {\n",
       "        vertical-align: middle;\n",
       "    }\n",
       "\n",
       "    .dataframe tbody tr th {\n",
       "        vertical-align: top;\n",
       "    }\n",
       "\n",
       "    .dataframe thead th {\n",
       "        text-align: right;\n",
       "    }\n",
       "</style>\n",
       "<table border=\"1\" class=\"dataframe\">\n",
       "  <thead>\n",
       "    <tr style=\"text-align: right;\">\n",
       "      <th></th>\n",
       "      <th>Date</th>\n",
       "      <th>IMOEX</th>\n",
       "    </tr>\n",
       "  </thead>\n",
       "  <tbody>\n",
       "    <tr>\n",
       "      <th>0</th>\n",
       "      <td>2013-01-08</td>\n",
       "      <td>1526.98</td>\n",
       "    </tr>\n",
       "    <tr>\n",
       "      <th>1</th>\n",
       "      <td>2013-01-09</td>\n",
       "      <td>1576.10</td>\n",
       "    </tr>\n",
       "    <tr>\n",
       "      <th>2</th>\n",
       "      <td>2013-01-10</td>\n",
       "      <td>1568.59</td>\n",
       "    </tr>\n",
       "    <tr>\n",
       "      <th>3</th>\n",
       "      <td>2013-01-11</td>\n",
       "      <td>1572.00</td>\n",
       "    </tr>\n",
       "    <tr>\n",
       "      <th>4</th>\n",
       "      <td>2013-01-14</td>\n",
       "      <td>1571.73</td>\n",
       "    </tr>\n",
       "  </tbody>\n",
       "</table>\n",
       "</div>"
      ],
      "text/plain": [
       "        Date    IMOEX\n",
       "0 2013-01-08  1526.98\n",
       "1 2013-01-09  1576.10\n",
       "2 2013-01-10  1568.59\n",
       "3 2013-01-11  1572.00\n",
       "4 2013-01-14  1571.73"
      ]
     },
     "execution_count": 34,
     "metadata": {},
     "output_type": "execute_result"
    }
   ],
   "source": [
    "del raw_MOEX['Max']\n",
    "del raw_MOEX['Min']\n",
    "del raw_MOEX['Trading Volume, USD']\n",
    "del raw_MOEX['Market Capitalization, USD']\n",
    "del raw_MOEX['Unnamed: 7']\n",
    "del raw_MOEX['Close']\n",
    "raw_MOEX.columns = ['Date', 'IMOEX']\n",
    "raw_MOEX['Date'] = pd.to_datetime(raw_MOEX['Date'], format = '%d.%m.%Y')\n",
    "raw_MOEX= raw_MOEX.sort_values(['Date'], ascending=True)\n",
    "raw_MOEX = raw_MOEX.reset_index()\n",
    "del raw_MOEX['index']\n",
    "raw_MOEX.head()"
   ]
  },
  {
   "cell_type": "code",
   "execution_count": 35,
   "metadata": {},
   "outputs": [
    {
     "data": {
      "text/html": [
       "<div>\n",
       "<style scoped>\n",
       "    .dataframe tbody tr th:only-of-type {\n",
       "        vertical-align: middle;\n",
       "    }\n",
       "\n",
       "    .dataframe tbody tr th {\n",
       "        vertical-align: top;\n",
       "    }\n",
       "\n",
       "    .dataframe thead th {\n",
       "        text-align: right;\n",
       "    }\n",
       "</style>\n",
       "<table border=\"1\" class=\"dataframe\">\n",
       "  <thead>\n",
       "    <tr style=\"text-align: right;\">\n",
       "      <th></th>\n",
       "      <th>Date</th>\n",
       "      <th>IMOEX</th>\n",
       "    </tr>\n",
       "  </thead>\n",
       "  <tbody>\n",
       "    <tr>\n",
       "      <th>0</th>\n",
       "      <td>2013-01-08</td>\n",
       "      <td>1526.98</td>\n",
       "    </tr>\n",
       "    <tr>\n",
       "      <th>1</th>\n",
       "      <td>2013-01-09</td>\n",
       "      <td>1576.10</td>\n",
       "    </tr>\n",
       "    <tr>\n",
       "      <th>2</th>\n",
       "      <td>2013-01-10</td>\n",
       "      <td>1568.59</td>\n",
       "    </tr>\n",
       "    <tr>\n",
       "      <th>3</th>\n",
       "      <td>2013-01-11</td>\n",
       "      <td>1572.00</td>\n",
       "    </tr>\n",
       "    <tr>\n",
       "      <th>4</th>\n",
       "      <td>2013-01-12</td>\n",
       "      <td>1572.00</td>\n",
       "    </tr>\n",
       "    <tr>\n",
       "      <th>5</th>\n",
       "      <td>2013-01-13</td>\n",
       "      <td>1572.00</td>\n",
       "    </tr>\n",
       "    <tr>\n",
       "      <th>6</th>\n",
       "      <td>2013-01-14</td>\n",
       "      <td>1571.73</td>\n",
       "    </tr>\n",
       "  </tbody>\n",
       "</table>\n",
       "</div>"
      ],
      "text/plain": [
       "        Date    IMOEX\n",
       "0 2013-01-08  1526.98\n",
       "1 2013-01-09  1576.10\n",
       "2 2013-01-10  1568.59\n",
       "3 2013-01-11  1572.00\n",
       "4 2013-01-12  1572.00\n",
       "5 2013-01-13  1572.00\n",
       "6 2013-01-14  1571.73"
      ]
     },
     "execution_count": 35,
     "metadata": {},
     "output_type": "execute_result"
    }
   ],
   "source": [
    "raw_MOEX.set_index('Date', inplace=True)\n",
    "raw_MOEX = raw_MOEX.resample('D').sum()\n",
    "raw_MOEX['IMOEX'] = raw_MOEX['IMOEX'].replace(0, np.nan)\n",
    "for n,i in enumerate(raw_MOEX['IMOEX']):\n",
    "        if np.isnan(raw_MOEX['IMOEX'][n]):\n",
    "            raw_MOEX['IMOEX'][n] = raw_MOEX['IMOEX'][n-1]\n",
    "raw_MOEX = raw_MOEX.reset_index()\n",
    "raw_MOEX.head(7)"
   ]
  },
  {
   "cell_type": "markdown",
   "metadata": {},
   "source": [
    "#### As we can notice the dataframe are starting in 8 jan 2013 and the others datas is starting in 1 jan 2013. So we have to complete the lacuna, so to fix it easily we will creating a dataframe to concat it to raw_moex and complete the diference in the date."
   ]
  },
  {
   "cell_type": "code",
   "execution_count": 36,
   "metadata": {},
   "outputs": [
    {
     "data": {
      "text/plain": [
       "(911, 2)"
      ]
     },
     "execution_count": 36,
     "metadata": {},
     "output_type": "execute_result"
    }
   ],
   "source": [
    "df_concat = pd.DataFrame()\n",
    "df_concat['Date']=category1_TS['Date'][:7]\n",
    "df_concat['IMOEX'] = raw_MOEX['IMOEX'][0]\n",
    "MOEX= pd.concat([df_concat,raw_MOEX])\n",
    "MOEX.shape"
   ]
  },
  {
   "cell_type": "code",
   "execution_count": 37,
   "metadata": {},
   "outputs": [],
   "source": [
    "MOEX.to_csv(\"MOEX.csv\", header = True, index = False)"
   ]
  },
  {
   "cell_type": "markdown",
   "metadata": {},
   "source": [
    "# Preparing the Russia unemployment rate data\n",
    "\n",
    "#### We could find this dataset in: https://fred.stlouisfed.org/series/LMUNRRTTRUM156S"
   ]
  },
  {
   "cell_type": "code",
   "execution_count": 38,
   "metadata": {},
   "outputs": [
    {
     "data": {
      "text/html": [
       "<div>\n",
       "<style scoped>\n",
       "    .dataframe tbody tr th:only-of-type {\n",
       "        vertical-align: middle;\n",
       "    }\n",
       "\n",
       "    .dataframe tbody tr th {\n",
       "        vertical-align: top;\n",
       "    }\n",
       "\n",
       "    .dataframe thead th {\n",
       "        text-align: right;\n",
       "    }\n",
       "</style>\n",
       "<table border=\"1\" class=\"dataframe\">\n",
       "  <thead>\n",
       "    <tr style=\"text-align: right;\">\n",
       "      <th></th>\n",
       "      <th>Date</th>\n",
       "      <th>Unemployment_rate</th>\n",
       "    </tr>\n",
       "  </thead>\n",
       "  <tbody>\n",
       "    <tr>\n",
       "      <th>0</th>\n",
       "      <td>1991-07-01</td>\n",
       "      <td>0.064580</td>\n",
       "    </tr>\n",
       "    <tr>\n",
       "      <th>1</th>\n",
       "      <td>1991-08-01</td>\n",
       "      <td>0.085650</td>\n",
       "    </tr>\n",
       "    <tr>\n",
       "      <th>2</th>\n",
       "      <td>1991-09-01</td>\n",
       "      <td>0.151737</td>\n",
       "    </tr>\n",
       "    <tr>\n",
       "      <th>3</th>\n",
       "      <td>1991-10-01</td>\n",
       "      <td>0.144985</td>\n",
       "    </tr>\n",
       "    <tr>\n",
       "      <th>4</th>\n",
       "      <td>1991-11-01</td>\n",
       "      <td>0.128542</td>\n",
       "    </tr>\n",
       "  </tbody>\n",
       "</table>\n",
       "</div>"
      ],
      "text/plain": [
       "         Date  Unemployment_rate\n",
       "0  1991-07-01           0.064580\n",
       "1  1991-08-01           0.085650\n",
       "2  1991-09-01           0.151737\n",
       "3  1991-10-01           0.144985\n",
       "4  1991-11-01           0.128542"
      ]
     },
     "execution_count": 38,
     "metadata": {},
     "output_type": "execute_result"
    }
   ],
   "source": [
    "raw_unemployment = pd.read_csv(\"raw_unemployment.csv\", sep = \",\")\n",
    "raw_unemployment.columns = ['Date','Unemployment_rate']\n",
    "raw_unemployment.head()"
   ]
  },
  {
   "cell_type": "code",
   "execution_count": 39,
   "metadata": {},
   "outputs": [
    {
     "data": {
      "text/html": [
       "<div>\n",
       "<style scoped>\n",
       "    .dataframe tbody tr th:only-of-type {\n",
       "        vertical-align: middle;\n",
       "    }\n",
       "\n",
       "    .dataframe tbody tr th {\n",
       "        vertical-align: top;\n",
       "    }\n",
       "\n",
       "    .dataframe thead th {\n",
       "        text-align: right;\n",
       "    }\n",
       "</style>\n",
       "<table border=\"1\" class=\"dataframe\">\n",
       "  <thead>\n",
       "    <tr style=\"text-align: right;\">\n",
       "      <th></th>\n",
       "      <th>Date</th>\n",
       "      <th>Unemployment_rate</th>\n",
       "    </tr>\n",
       "  </thead>\n",
       "  <tbody>\n",
       "    <tr>\n",
       "      <th>0</th>\n",
       "      <td>1991-07-01</td>\n",
       "      <td>0.064580</td>\n",
       "    </tr>\n",
       "    <tr>\n",
       "      <th>1</th>\n",
       "      <td>1991-08-01</td>\n",
       "      <td>0.085650</td>\n",
       "    </tr>\n",
       "    <tr>\n",
       "      <th>2</th>\n",
       "      <td>1991-09-01</td>\n",
       "      <td>0.151737</td>\n",
       "    </tr>\n",
       "    <tr>\n",
       "      <th>3</th>\n",
       "      <td>1991-10-01</td>\n",
       "      <td>0.144985</td>\n",
       "    </tr>\n",
       "    <tr>\n",
       "      <th>4</th>\n",
       "      <td>1991-11-01</td>\n",
       "      <td>0.128542</td>\n",
       "    </tr>\n",
       "  </tbody>\n",
       "</table>\n",
       "</div>"
      ],
      "text/plain": [
       "        Date  Unemployment_rate\n",
       "0 1991-07-01           0.064580\n",
       "1 1991-08-01           0.085650\n",
       "2 1991-09-01           0.151737\n",
       "3 1991-10-01           0.144985\n",
       "4 1991-11-01           0.128542"
      ]
     },
     "execution_count": 39,
     "metadata": {},
     "output_type": "execute_result"
    }
   ],
   "source": [
    "raw_unemployment['Date'] = pd.to_datetime(raw_unemployment['Date'], format = '%Y.%m.%d')\n",
    "raw_unemployment= raw_unemployment.sort_values(['Date'], ascending=True)\n",
    "raw_unemployment.head()"
   ]
  },
  {
   "cell_type": "markdown",
   "metadata": {},
   "source": [
    "#### The unemployment rate data is resampled monthly, so we need to convert it to daily to use it as a feature. First we will selecting the interval wanted and then apply the resample."
   ]
  },
  {
   "cell_type": "code",
   "execution_count": 40,
   "metadata": {},
   "outputs": [
    {
     "data": {
      "text/html": [
       "<div>\n",
       "<style scoped>\n",
       "    .dataframe tbody tr th:only-of-type {\n",
       "        vertical-align: middle;\n",
       "    }\n",
       "\n",
       "    .dataframe tbody tr th {\n",
       "        vertical-align: top;\n",
       "    }\n",
       "\n",
       "    .dataframe thead th {\n",
       "        text-align: right;\n",
       "    }\n",
       "</style>\n",
       "<table border=\"1\" class=\"dataframe\">\n",
       "  <thead>\n",
       "    <tr style=\"text-align: right;\">\n",
       "      <th></th>\n",
       "      <th>Date</th>\n",
       "      <th>Unemployment_rate</th>\n",
       "    </tr>\n",
       "  </thead>\n",
       "  <tbody>\n",
       "    <tr>\n",
       "      <th>0</th>\n",
       "      <td>2013-01-01</td>\n",
       "      <td>1.349145</td>\n",
       "    </tr>\n",
       "    <tr>\n",
       "      <th>1</th>\n",
       "      <td>2013-02-01</td>\n",
       "      <td>1.310942</td>\n",
       "    </tr>\n",
       "    <tr>\n",
       "      <th>2</th>\n",
       "      <td>2013-03-01</td>\n",
       "      <td>1.270595</td>\n",
       "    </tr>\n",
       "    <tr>\n",
       "      <th>3</th>\n",
       "      <td>2013-04-01</td>\n",
       "      <td>1.282455</td>\n",
       "    </tr>\n",
       "    <tr>\n",
       "      <th>4</th>\n",
       "      <td>2013-05-01</td>\n",
       "      <td>1.257711</td>\n",
       "    </tr>\n",
       "  </tbody>\n",
       "</table>\n",
       "</div>"
      ],
      "text/plain": [
       "        Date  Unemployment_rate\n",
       "0 2013-01-01           1.349145\n",
       "1 2013-02-01           1.310942\n",
       "2 2013-03-01           1.270595\n",
       "3 2013-04-01           1.282455\n",
       "4 2013-05-01           1.257711"
      ]
     },
     "execution_count": 40,
     "metadata": {},
     "output_type": "execute_result"
    }
   ],
   "source": [
    "raw_unemployment = raw_unemployment[258:289]\n",
    "raw_unemployment = raw_unemployment.reset_index()\n",
    "del raw_unemployment['index']\n",
    "raw_unemployment.head()"
   ]
  },
  {
   "cell_type": "code",
   "execution_count": 41,
   "metadata": {},
   "outputs": [
    {
     "data": {
      "image/png": "[encoded data removed]",
      "text/plain": [
       "<Figure size 1080x504 with 1 Axes>"
      ]
     },
     "metadata": {
      "needs_background": "light"
     },
     "output_type": "display_data"
    }
   ],
   "source": [
    "dim = (15, 7)\n",
    "fig, ax = plt.subplots(figsize=dim)\n",
    "ax = sns.lineplot(x=\"Date\", y=\"Unemployment_rate\", color = 'indigo',data=raw_unemployment)"
   ]
  },
  {
   "cell_type": "code",
   "execution_count": 42,
   "metadata": {},
   "outputs": [
    {
     "data": {
      "text/plain": [
       "(31, 2)"
      ]
     },
     "execution_count": 42,
     "metadata": {},
     "output_type": "execute_result"
    }
   ],
   "source": [
    "raw_unemployment.shape"
   ]
  },
  {
   "cell_type": "code",
   "execution_count": 43,
   "metadata": {},
   "outputs": [
    {
     "name": "stdout",
     "output_type": "stream",
     "text": [
      "            20            19             18             17\n",
      "-1.442e-51 x  + 1.17e-47 x  - 4.223e-44 x  + 8.795e-41 x \n",
      "              16             15             14             13\n",
      " - 1.122e-37 x  + 7.903e-35 x  - 2.171e-33 x  - 6.347e-29 x \n",
      "              12            11             10             9\n",
      " + 8.105e-26 x  - 6.03e-23 x  + 3.121e-20 x  - 1.182e-17 x\n",
      "              8             7             6             5             4\n",
      " + 3.327e-15 x - 6.944e-13 x + 1.059e-10 x - 1.145e-08 x + 8.379e-07 x\n",
      "              3             2\n",
      " - 3.832e-05 x + 0.0009643 x - 0.0112 x + 1.349\n"
     ]
    },
    {
     "name": "stderr",
     "output_type": "stream",
     "text": [
      "C:\\Users\\Anthony\\Anaconda3\\lib\\site-packages\\ipykernel_launcher.py:3: RankWarning: Polyfit may be poorly conditioned\n",
      "  This is separate from the ipykernel package so we can avoid doing imports until\n"
     ]
    }
   ],
   "source": [
    "x= np.linspace(0,930,31)  # firstday, lastday, number of samples\n",
    "y=np.asarray(raw_unemployment['Unemployment_rate'])\n",
    "f = np.polyfit(x, y, 20)\n",
    "polEquation = np.poly1d(f)\n",
    "print(polEquation)"
   ]
  },
  {
   "cell_type": "code",
   "execution_count": 44,
   "metadata": {},
   "outputs": [
    {
     "data": {
      "text/html": [
       "<div>\n",
       "<style scoped>\n",
       "    .dataframe tbody tr th:only-of-type {\n",
       "        vertical-align: middle;\n",
       "    }\n",
       "\n",
       "    .dataframe tbody tr th {\n",
       "        vertical-align: top;\n",
       "    }\n",
       "\n",
       "    .dataframe thead th {\n",
       "        text-align: right;\n",
       "    }\n",
       "</style>\n",
       "<table border=\"1\" class=\"dataframe\">\n",
       "  <thead>\n",
       "    <tr style=\"text-align: right;\">\n",
       "      <th></th>\n",
       "      <th>Day</th>\n",
       "      <th>Date</th>\n",
       "      <th>Price</th>\n",
       "      <th>Freq</th>\n",
       "      <th>Invoice</th>\n",
       "      <th>DayofWeek</th>\n",
       "      <th>Weekofyear</th>\n",
       "      <th>Quarter</th>\n",
       "      <th>GDP</th>\n",
       "      <th>UnemploymentRate</th>\n",
       "    </tr>\n",
       "  </thead>\n",
       "  <tbody>\n",
       "    <tr>\n",
       "      <th>0</th>\n",
       "      <td>0</td>\n",
       "      <td>2013-01-01</td>\n",
       "      <td>1479.487115</td>\n",
       "      <td>128</td>\n",
       "      <td>189374.350769</td>\n",
       "      <td>1</td>\n",
       "      <td>1</td>\n",
       "      <td>1</td>\n",
       "      <td>2.297128e+12</td>\n",
       "      <td>1.349194</td>\n",
       "    </tr>\n",
       "    <tr>\n",
       "      <th>1</th>\n",
       "      <td>1</td>\n",
       "      <td>2013-01-02</td>\n",
       "      <td>1561.694303</td>\n",
       "      <td>525</td>\n",
       "      <td>819889.508928</td>\n",
       "      <td>2</td>\n",
       "      <td>1</td>\n",
       "      <td>1</td>\n",
       "      <td>2.297498e+12</td>\n",
       "      <td>1.338923</td>\n",
       "    </tr>\n",
       "    <tr>\n",
       "      <th>2</th>\n",
       "      <td>2</td>\n",
       "      <td>2013-01-03</td>\n",
       "      <td>1483.195423</td>\n",
       "      <td>443</td>\n",
       "      <td>657055.572183</td>\n",
       "      <td>3</td>\n",
       "      <td>1</td>\n",
       "      <td>1</td>\n",
       "      <td>2.297862e+12</td>\n",
       "      <td>1.330362</td>\n",
       "    </tr>\n",
       "    <tr>\n",
       "      <th>3</th>\n",
       "      <td>3</td>\n",
       "      <td>2013-01-04</td>\n",
       "      <td>1532.475859</td>\n",
       "      <td>399</td>\n",
       "      <td>611457.867576</td>\n",
       "      <td>4</td>\n",
       "      <td>1</td>\n",
       "      <td>1</td>\n",
       "      <td>2.298220e+12</td>\n",
       "      <td>1.323310</td>\n",
       "    </tr>\n",
       "    <tr>\n",
       "      <th>4</th>\n",
       "      <td>4</td>\n",
       "      <td>2013-01-05</td>\n",
       "      <td>1490.351956</td>\n",
       "      <td>399</td>\n",
       "      <td>594650.430267</td>\n",
       "      <td>5</td>\n",
       "      <td>1</td>\n",
       "      <td>1</td>\n",
       "      <td>2.298573e+12</td>\n",
       "      <td>1.317582</td>\n",
       "    </tr>\n",
       "  </tbody>\n",
       "</table>\n",
       "</div>"
      ],
      "text/plain": [
       "   Day       Date        Price  Freq        Invoice  DayofWeek  Weekofyear  \\\n",
       "0    0 2013-01-01  1479.487115   128  189374.350769          1           1   \n",
       "1    1 2013-01-02  1561.694303   525  819889.508928          2           1   \n",
       "2    2 2013-01-03  1483.195423   443  657055.572183          3           1   \n",
       "3    3 2013-01-04  1532.475859   399  611457.867576          4           1   \n",
       "4    4 2013-01-05  1490.351956   399  594650.430267          5           1   \n",
       "\n",
       "   Quarter           GDP  UnemploymentRate  \n",
       "0        1  2.297128e+12          1.349194  \n",
       "1        1  2.297498e+12          1.338923  \n",
       "2        1  2.297862e+12          1.330362  \n",
       "3        1  2.298220e+12          1.323310  \n",
       "4        1  2.298573e+12          1.317582  "
      ]
     },
     "execution_count": 44,
     "metadata": {},
     "output_type": "execute_result"
    }
   ],
   "source": [
    "category1_TS['UnemploymentRate'] = polEquation(category1_TS['Day'])\n",
    "category1_TS['Date'] = pd.to_datetime(category1_TS['Date'], format = '%Y.%m.%d')\n",
    "category1_TS.head()"
   ]
  },
  {
   "cell_type": "code",
   "execution_count": 45,
   "metadata": {},
   "outputs": [
    {
     "data": {
      "text/plain": [
       "<matplotlib.legend.Legend at 0x22a4a6a9390>"
      ]
     },
     "execution_count": 45,
     "metadata": {},
     "output_type": "execute_result"
    },
    {
     "data": {
      "image/png": "[encoded data removed]",
      "text/plain": [
       "<Figure size 1080x504 with 1 Axes>"
      ]
     },
     "metadata": {
      "needs_background": "light"
     },
     "output_type": "display_data"
    }
   ],
   "source": [
    "dim = (15, 7)\n",
    "fig, ax = plt.subplots(figsize=dim)\n",
    "ax = sns.lineplot(x=\"Date\", y=\"UnemploymentRate\", color = 'tomato',data=category1_TS)\n",
    "ax2 = sns.lineplot(x=\"Date\", y=\"Unemployment_rate\", color = 'royalblue',data=raw_unemployment)\n",
    "plt.legend(title='GDP', loc='best', labels=['Estimated GDP', 'Data GDP'])"
   ]
  },
  {
   "cell_type": "code",
   "execution_count": 46,
   "metadata": {},
   "outputs": [],
   "source": [
    "unemploymentRate = pd.DataFrame()\n",
    "unemploymentRate['Date'] = category1_TS['Date']\n",
    "unemploymentRate['UnempRate'] = category1_TS['UnemploymentRate']\n",
    "unemploymentRate.to_csv(\"unemploymentRate.csv\", header = True, index = False)"
   ]
  },
  {
   "cell_type": "code",
   "execution_count": null,
   "metadata": {},
   "outputs": [],
   "source": []
  }
 ],
 "metadata": {
  "kernelspec": {
   "display_name": "Python 3",
   "language": "python",
   "name": "python3"
  },
  "language_info": {
   "codemirror_mode": {
    "name": "ipython",
    "version": 3
   },
   "file_extension": ".py",
   "mimetype": "text/x-python",
   "name": "python",
   "nbconvert_exporter": "python",
   "pygments_lexer": "ipython3",
   "version": "3.6.8"
  }
 },
 "nbformat": 4,
 "nbformat_minor": 2
}
